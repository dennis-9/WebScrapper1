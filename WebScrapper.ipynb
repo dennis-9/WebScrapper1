{
 "cells": [
  {
   "cell_type": "code",
   "execution_count": null,
   "metadata": {},
   "outputs": [],
   "source": [
    "!git clone https://github.com/nuhmanpk/WebScrapper.git"
   ]
  },
  {
   "cell_type": "code",
   "execution_count": null,
   "metadata": {},
   "outputs": [],
   "source": [
    "!pip install -r /content/WebScrapper/requirements.txt -qU"
   ]
  },
  {
   "cell_type": "code",
   "execution_count": null,
   "metadata": {},
   "outputs": [],
   "source": [
    "BOT_TOKEN = 'TOKEN'\n",
    "API_ID = 'API_ID'\n",
    "API_HASH = 'API_HASH'\n",
    "CRAWL_LOG_CHANNEL = '' # Channel ID where the Data to be sent"
   ]
  },
  {
   "cell_type": "code",
   "execution_count": null,
   "metadata": {},
   "outputs": [],
   "source": [
    "with open('.env', 'w') as f:\n",
    "    f.write(f\"BOT_TOKEN={BOT_TOKEN}\\n\")\n",
    "    f.write(f\"API_ID={API_ID}\\n\")\n",
    "    f.write(f\"API_HASH={API_HASH}\\n\")\n",
    "    f.write(f\"CRAWL_LOG_CHANNEL={CRAWL_LOG_CHANNEL}\\n\")"
   ]
  },
  {
   "cell_type": "code",
   "execution_count": null,
   "metadata": {},
   "outputs": [],
   "source": [
    "!python3 /content/WebScrapper/main.py"
   ]
  }
 ],
 "metadata": {
  "language_info": {
   "name": "python"
  }
 },
 "nbformat": 4,
 "nbformat_minor": 2
}
